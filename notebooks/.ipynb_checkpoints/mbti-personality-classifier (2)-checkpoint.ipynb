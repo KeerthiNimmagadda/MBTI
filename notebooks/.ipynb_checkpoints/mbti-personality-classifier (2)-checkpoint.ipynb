{
 "cells": [
  {
   "cell_type": "code",
   "execution_count": 1,
   "metadata": {
    "_uuid": "a7de7bb1a15a021967dce619552960dd5fec96d1"
   },
   "outputs": [],
   "source": [
    "import pandas as pd\n",
    "import numpy as np\n",
    "import matplotlib.pyplot as plt\n",
    "import nltk\n",
    "import string\n",
    "from nltk.classify import NaiveBayesClassifier"
   ]
  },
  {
   "cell_type": "markdown",
   "metadata": {
    "_uuid": "0dbb5e7154ae6c0952e785327a5e6910597f1e84"
   },
   "source": [
    "### Importing the dataset "
   ]
  },
  {
   "cell_type": "code",
   "execution_count": 2,
   "metadata": {
    "_kg_hide-input": true,
    "_uuid": "9dfe2a597939ab1ae2ec490a1de13db637451134"
   },
   "outputs": [],
   "source": [
    "data_set = pd.read_csv(\"mbti_1.csv\")"
   ]
  },
  {
   "cell_type": "code",
   "execution_count": 3,
   "metadata": {
    "_uuid": "ac77990f8eb625fa66d16fd94e923425c51413aa"
   },
   "outputs": [],
   "source": [
    "types = np.unique(np.array(data_set['type']))\n"
   ]
  },
  {
   "cell_type": "code",
   "execution_count": 4,
   "metadata": {
    "_uuid": "2dd18c970f03d46c1975404a6ae8c5138b129323",
    "scrolled": true
   },
   "outputs": [],
   "source": [
    "total = data_set.groupby(['type']).count()*50\n"
   ]
  },
  {
   "cell_type": "markdown",
   "metadata": {
    "_uuid": "2f743361a01e838dfe1d5cd4965f495c2ff2e683"
   },
   "source": [
    "Graphing it for better visualization"
   ]
  },
  {
   "cell_type": "code",
   "execution_count": 5,
   "metadata": {
    "_uuid": "b12b91bc628b74dfe872f7ba667e0b6e2a03db95"
   },
   "outputs": [
    {
     "data": {
      "text/plain": [
       "Text(0.5, 1.0, 'Total posts for each personality type')"
      ]
     },
     "execution_count": 5,
     "metadata": {},
     "output_type": "execute_result"
    },
    {
     "data": {
      "image/png": "[encoded data removed]",
      "text/plain": [
       "<Figure size 864x432 with 1 Axes>"
      ]
     },
     "metadata": {
      "needs_background": "light"
     },
     "output_type": "display_data"
    }
   ],
   "source": [
    "plt.figure(figsize = (12,6))\n",
    "\n",
    "plt.bar(np.array(total.index), height = total['posts'],)\n",
    "plt.xlabel('Personality types', size = 14)\n",
    "plt.ylabel('Number of posts available', size = 14)\n",
    "plt.title('Total posts for each personality type')"
   ]
  },
  {
   "cell_type": "markdown",
   "metadata": {
    "_uuid": "ed579baba39191f90621eb7e8ca7f055833482d8"
   },
   "source": [
    "## Organising the data to create a bag words model"
   ]
  },
  {
   "cell_type": "markdown",
   "metadata": {
    "_uuid": "0532bbb0af6f4e09c3495150bdd7240b5fa3d1ae"
   },
   "source": [
    "Segrating all the posts by their personality types and ***creating a new dataframe to store all this in***"
   ]
  },
  {
   "cell_type": "code",
   "execution_count": 6,
   "metadata": {
    "_uuid": "9b3be2945617b413417302b2c8f42e670051ec37"
   },
   "outputs": [],
   "source": [
    "all_posts= pd.DataFrame()\n",
    "for j in types:\n",
    "    temp1 = data_set[data_set['type']==j]['posts']\n",
    "    temp2 = []\n",
    "    for i in temp1:\n",
    "        temp2+=i.split('|||')\n",
    "    temp3 = pd.Series(temp2)\n",
    "    all_posts[j] = temp3"
   ]
  },
  {
   "cell_type": "markdown",
   "metadata": {
    "_uuid": "d12174fcd162a6450e4ac2e303682e319aa005c6"
   },
   "source": [
    "### Creating a function to tokenize the words"
   ]
  },
  {
   "cell_type": "code",
   "execution_count": 7,
   "metadata": {
    "_uuid": "d1cf27e7c60cab187f862398d9d03331a9c001c7"
   },
   "outputs": [],
   "source": [
    "useless_words = nltk.corpus.stopwords.words(\"english\") + list(string.punctuation)\n",
    "def build_bag_of_words_features_filtered(words):\n",
    "    words = nltk.word_tokenize(words)\n",
    "    return {\n",
    "        word:1 for word in words \\\n",
    "        if not word in useless_words}"
   ]
  },
  {
   "cell_type": "markdown",
   "metadata": {
    "_uuid": "976fdc10b8b4c6743bb0c325f14a037c879b1b59"
   },
   "source": [
    "## Creating an array of features"
   ]
  },
  {
   "cell_type": "code",
   "execution_count": 8,
   "metadata": {
    "_uuid": "c12ce5aa5d0934fe0a33fbf48cbedfd954ed0977"
   },
   "outputs": [],
   "source": [
    "features=[]\n",
    "for j in types:\n",
    "    temp1 = all_posts[j]\n",
    "    temp1 = temp1.dropna() #not all the personality types have same number of files\n",
    "    features += [[(build_bag_of_words_features_filtered(i), j) \\\n",
    "    for i in temp1]]"
   ]
  },
  {
   "cell_type": "markdown",
   "metadata": {
    "_uuid": "cd5dea9d90a7bfa72423c194d5f4966748716a63"
   },
   "source": [
    "Because each number of personality types have different number of posts they must be splitted accordingle. Taking 80% for training and 20% for testing"
   ]
  },
  {
   "cell_type": "code",
   "execution_count": 9,
   "metadata": {
    "_uuid": "52b45b2e1f64e7bf4ed37828954c80a4e9fb5730"
   },
   "outputs": [],
   "source": [
    "split=[]\n",
    "for i in range(16):\n",
    "    split += [len(features[i]) * 0.8]\n",
    "split = np.array(split,dtype = int)"
   ]
  },
  {
   "cell_type": "markdown",
   "metadata": {
    "_uuid": "263b847c15800f0f11d044e9689a21d0a30b3a7e"
   },
   "source": [
    "Data for training"
   ]
  },
  {
   "cell_type": "code",
   "execution_count": 10,
   "metadata": {
    "_uuid": "6cbd5c54b86a463d64322aeb02fb903b2b4e82c6"
   },
   "outputs": [],
   "source": [
    "train=[]\n",
    "for i in range(16):\n",
    "    train += features[i][:split[i]] "
   ]
  },
  {
   "cell_type": "markdown",
   "metadata": {
    "_uuid": "fe3c2423936c997356d6b843f5e65e85d7642462"
   },
   "source": [
    "Training the model"
   ]
  },
  {
   "cell_type": "code",
   "execution_count": 11,
   "metadata": {
    "_uuid": "b930c84f50e41c49f7b44bdd6e6f57b9032a9835"
   },
   "outputs": [],
   "source": [
    "sentiment_classifier = NaiveBayesClassifier.train(train)"
   ]
  },
  {
   "cell_type": "markdown",
   "metadata": {
    "_uuid": "829ddde6fe01aec69dd57edefd5da22827801528"
   },
   "source": [
    "Testing the model on the dataset it was trained for accuracy"
   ]
  },
  {
   "cell_type": "code",
   "execution_count": 12,
   "metadata": {
    "_uuid": "acb88e947d877d266ff0997040f0e4c10bd6dfc5",
    "scrolled": true
   },
   "outputs": [
    {
     "data": {
      "text/plain": [
       "43.92808718962502"
      ]
     },
     "execution_count": 12,
     "metadata": {},
     "output_type": "execute_result"
    }
   ],
   "source": [
    "nltk.classify.util.accuracy(sentiment_classifier, train)*100"
   ]
  },
  {
   "cell_type": "markdown",
   "metadata": {
    "_uuid": "62fa8394b0433a2889cb76281fceed98c0d34754"
   },
   "source": [
    "Creating the test data"
   ]
  },
  {
   "cell_type": "code",
   "execution_count": 13,
   "metadata": {
    "_uuid": "7bf4a6177d1974a4cac9e208115eb602de57e9b7"
   },
   "outputs": [],
   "source": [
    "test=[]\n",
    "for i in range(16):\n",
    "    test += features[i][split[i]:]"
   ]
  },
  {
   "cell_type": "markdown",
   "metadata": {
    "_uuid": "9f3da6cc68b79cd366af11f3787e2435b7f0cacc"
   },
   "source": [
    "Testing the model on the test dataset which it has never seen before"
   ]
  },
  {
   "cell_type": "code",
   "execution_count": 14,
   "metadata": {
    "_uuid": "0e19237c022c547751c86213efce424693ac8297"
   },
   "outputs": [
    {
     "data": {
      "text/plain": [
       "10.429168563506188"
      ]
     },
     "execution_count": 14,
     "metadata": {},
     "output_type": "execute_result"
    }
   ],
   "source": [
    "nltk.classify.util.accuracy(sentiment_classifier, test)*100"
   ]
  },
  {
   "cell_type": "markdown",
   "metadata": {
    "_uuid": "08d890ede1621d48072217d1b15b2cde55a5b4a0"
   },
   "source": [
    "## Creating a classifyer for Introversion (I) and Extroversion (E)\n",
    "\n",
    "**Note:** The details for the steps over here are same as the ones while creating the model above, hence I will only explain the changes"
   ]
  },
  {
   "cell_type": "code",
   "execution_count": 15,
   "metadata": {
    "_uuid": "758c5ea838ea17737bee0aac2702fad80c222795"
   },
   "outputs": [],
   "source": [
    "# Features for the bag of words model\n",
    "features=[]\n",
    "for j in types:\n",
    "    temp1 = all_posts[j]\n",
    "    temp1 = temp1.dropna() #not all the personality types have same number of files\n",
    "    if('I' in j):\n",
    "        features += [[(build_bag_of_words_features_filtered(i), 'introvert') \\\n",
    "        for i in temp1]]\n",
    "    if('E' in j):\n",
    "        features += [[(build_bag_of_words_features_filtered(i), 'extrovert') \\\n",
    "        for i in temp1]]"
   ]
  },
  {
   "cell_type": "markdown",
   "metadata": {
    "_uuid": "4d5ead1eb0646a9e3b67fec85a67258700db1683"
   },
   "source": [
    "Data for training"
   ]
  },
  {
   "cell_type": "code",
   "execution_count": 16,
   "metadata": {
    "_uuid": "dc661a28b0941ae1604b3a4243ccae040a657bc7"
   },
   "outputs": [],
   "source": [
    "train=[]\n",
    "for i in range(16):\n",
    "    train += features[i][:split[i]] "
   ]
  },
  {
   "cell_type": "markdown",
   "metadata": {
    "_uuid": "39b99fb6094d25ba0fdac71069503f93787834ea"
   },
   "source": [
    "Training the model"
   ]
  },
  {
   "cell_type": "code",
   "execution_count": 17,
   "metadata": {
    "_uuid": "0f3cfefa97c2d4d413fefa67bedb4d93e20e28a7"
   },
   "outputs": [],
   "source": [
    "IntroExtro = NaiveBayesClassifier.train(train)"
   ]
  },
  {
   "cell_type": "markdown",
   "metadata": {
    "_uuid": "e1311522dc0a90625244e07d9dc2bc437905fb72"
   },
   "source": [
    "Testing the model on the dataset it was trained for accuracy"
   ]
  },
  {
   "cell_type": "code",
   "execution_count": 18,
   "metadata": {
    "_uuid": "5fa8d51db85ea6f5170a2a98cfb49b0c86a882d6",
    "scrolled": true
   },
   "outputs": [
    {
     "data": {
      "text/plain": [
       "80.76528975232102"
      ]
     },
     "execution_count": 18,
     "metadata": {},
     "output_type": "execute_result"
    }
   ],
   "source": [
    "nltk.classify.util.accuracy(IntroExtro, train)*100"
   ]
  },
  {
   "cell_type": "markdown",
   "metadata": {
    "_uuid": "d86e4151cff019a1ce26d810205251ab44722bfb"
   },
   "source": [
    "Creating the test data"
   ]
  },
  {
   "cell_type": "code",
   "execution_count": 19,
   "metadata": {
    "_uuid": "daccffb9ae1578e336417da72ff440da95e02b58"
   },
   "outputs": [],
   "source": [
    "test=[]\n",
    "for i in range(16):\n",
    "    test += features[i][split[i]:]"
   ]
  },
  {
   "cell_type": "markdown",
   "metadata": {
    "_uuid": "b65c6c98166ff1ad192679c2f33920b413814cc6"
   },
   "source": [
    "Testing the model on the test dataset which it has never seen before"
   ]
  },
  {
   "cell_type": "code",
   "execution_count": 20,
   "metadata": {
    "_uuid": "225dd7878c1839fde0afd98eb542965174e43284"
   },
   "outputs": [
    {
     "data": {
      "text/plain": [
       "58.10536771096304"
      ]
     },
     "execution_count": 20,
     "metadata": {},
     "output_type": "execute_result"
    }
   ],
   "source": [
    "nltk.classify.util.accuracy(IntroExtro, test)*100"
   ]
  },
  {
   "cell_type": "markdown",
   "metadata": {
    "_uuid": "ed4c624dd0dc41b69f97620c8b63df00d2e8f4cc"
   },
   "source": [
    "Seeing that this model has good somewhat good results, I shall repeat the same with the rest of the traits"
   ]
  },
  {
   "cell_type": "markdown",
   "metadata": {
    "_uuid": "6765c0a50cfa00abe02d82e54beb083513f576b9"
   },
   "source": [
    "## Creating a classifyer for Intuition (N) and Sensing (S)"
   ]
  },
  {
   "cell_type": "code",
   "execution_count": 21,
   "metadata": {
    "_uuid": "85b4bafa3ab5ab28d62bdf6f7900e13cb99d373b"
   },
   "outputs": [],
   "source": [
    "# Features for the bag of words model\n",
    "features=[]\n",
    "for j in types:\n",
    "    temp1 = all_posts[j]\n",
    "    temp1 = temp1.dropna() #not all the personality types have same number of files\n",
    "    if('N' in j):\n",
    "        features += [[(build_bag_of_words_features_filtered(i), 'Intuition') \\\n",
    "        for i in temp1]]\n",
    "    if('E' in j):\n",
    "        features += [[(build_bag_of_words_features_filtered(i), 'Sensing') \\\n",
    "        for i in temp1]]"
   ]
  },
  {
   "cell_type": "code",
   "execution_count": 22,
   "metadata": {
    "_uuid": "16e77e2f017c6e325efb01d0c2f1b08e0275df7b"
   },
   "outputs": [],
   "source": [
    "train=[]\n",
    "for i in range(16):\n",
    "    train += features[i][:split[i]] "
   ]
  },
  {
   "cell_type": "code",
   "execution_count": 23,
   "metadata": {
    "_uuid": "9b4e1144c7503f5e2479e5653c7c94e64c72ae5a"
   },
   "outputs": [],
   "source": [
    "IntuitionSensing = NaiveBayesClassifier.train(train)"
   ]
  },
  {
   "cell_type": "code",
   "execution_count": 24,
   "metadata": {
    "_uuid": "ef7ba72cf11a1db5dd681e27a0f6bbaecf71407c",
    "scrolled": true
   },
   "outputs": [
    {
     "data": {
      "text/plain": [
       "70.012146586034"
      ]
     },
     "execution_count": 24,
     "metadata": {},
     "output_type": "execute_result"
    }
   ],
   "source": [
    "nltk.classify.util.accuracy(IntuitionSensing, train)*100"
   ]
  },
  {
   "cell_type": "code",
   "execution_count": 25,
   "metadata": {
    "_uuid": "7978094d62e93fab92fa1baa317e7f88b584f6cb"
   },
   "outputs": [],
   "source": [
    "test=[]\n",
    "for i in range(16):\n",
    "    test += features[i][split[i]:]"
   ]
  },
  {
   "cell_type": "code",
   "execution_count": 26,
   "metadata": {
    "_uuid": "5530407b17783aa9750263045c4e82fc9ede4193"
   },
   "outputs": [
    {
     "data": {
      "text/plain": [
       "54.433447788325594"
      ]
     },
     "execution_count": 26,
     "metadata": {},
     "output_type": "execute_result"
    }
   ],
   "source": [
    "nltk.classify.util.accuracy(IntuitionSensing, test)*100"
   ]
  },
  {
   "cell_type": "markdown",
   "metadata": {
    "_uuid": "939377c2a60e87473452f8ccf2ac3f65cb92184a"
   },
   "source": [
    "## Creating a classifyer for Thinking (T) and Feeling (F)"
   ]
  },
  {
   "cell_type": "code",
   "execution_count": 27,
   "metadata": {
    "_uuid": "16c94864f18f7813ef48303b0813a82df5faf21b"
   },
   "outputs": [],
   "source": [
    "# Features for the bag of words model\n",
    "features=[]\n",
    "for j in types:\n",
    "    temp1 = all_posts[j]\n",
    "    temp1 = temp1.dropna() #not all the personality types have same number of files\n",
    "    if('T' in j):\n",
    "        features += [[(build_bag_of_words_features_filtered(i), 'Thinking') \\\n",
    "        for i in temp1]]\n",
    "    if('F' in j):\n",
    "        features += [[(build_bag_of_words_features_filtered(i), 'Feeling') \\\n",
    "        for i in temp1]]"
   ]
  },
  {
   "cell_type": "code",
   "execution_count": 28,
   "metadata": {
    "_uuid": "8695bea4e9df4c7f2c68d0326438bab6f2adca61"
   },
   "outputs": [],
   "source": [
    "train=[]\n",
    "for i in range(16):\n",
    "    train += features[i][:split[i]] "
   ]
  },
  {
   "cell_type": "code",
   "execution_count": 29,
   "metadata": {
    "_uuid": "e4957976f0e457d3c02cebb8d0410162aa17819e"
   },
   "outputs": [],
   "source": [
    "ThinkingFeeling = NaiveBayesClassifier.train(train)"
   ]
  },
  {
   "cell_type": "code",
   "execution_count": 30,
   "metadata": {
    "_uuid": "dcb9f355cfc7cf654c7c7dc852c7cdf96a3d5511",
    "scrolled": true
   },
   "outputs": [
    {
     "data": {
      "text/plain": [
       "79.63194882888105"
      ]
     },
     "execution_count": 30,
     "metadata": {},
     "output_type": "execute_result"
    }
   ],
   "source": [
    "nltk.classify.util.accuracy(ThinkingFeeling, train)*100"
   ]
  },
  {
   "cell_type": "code",
   "execution_count": 31,
   "metadata": {
    "_uuid": "e0afea3a82d77e0d4aa32ce16f3b037cd7b90219"
   },
   "outputs": [],
   "source": [
    "test=[]\n",
    "for i in range(16):\n",
    "    test += features[i][split[i]:]"
   ]
  },
  {
   "cell_type": "code",
   "execution_count": 32,
   "metadata": {
    "_uuid": "5ddcd665f3b0e7fdaabc817309b2ea92ba0daa84"
   },
   "outputs": [
    {
     "data": {
      "text/plain": [
       "59.47523072466168"
      ]
     },
     "execution_count": 32,
     "metadata": {},
     "output_type": "execute_result"
    }
   ],
   "source": [
    "nltk.classify.util.accuracy(ThinkingFeeling, test)*100"
   ]
  },
  {
   "cell_type": "markdown",
   "metadata": {
    "_uuid": "2638f37c273a9462711df93b20bb8ecd72cc3896"
   },
   "source": [
    "## Creating a classifyer for Judging (J) and Percieving (P)"
   ]
  },
  {
   "cell_type": "code",
   "execution_count": 33,
   "metadata": {
    "_uuid": "79646248ac9aeb950fc957e6b876b44cb31cf130"
   },
   "outputs": [],
   "source": [
    "# Features for the bag of words model\n",
    "features=[]\n",
    "for j in types:\n",
    "    temp1 = all_posts[j]\n",
    "    temp1 = temp1.dropna() #not all the personality types have same number of files\n",
    "    if('J' in j):\n",
    "        features += [[(build_bag_of_words_features_filtered(i), 'Judging') \\\n",
    "        for i in temp1]]\n",
    "    if('P' in j):\n",
    "        features += [[(build_bag_of_words_features_filtered(i), 'Percieving') \\\n",
    "        for i in temp1]]"
   ]
  },
  {
   "cell_type": "code",
   "execution_count": 34,
   "metadata": {
    "_uuid": "62c38900f7179032146564bb787877245ac3d3c4"
   },
   "outputs": [],
   "source": [
    "train=[]\n",
    "for i in range(16):\n",
    "    train += features[i][:split[i]] "
   ]
  },
  {
   "cell_type": "code",
   "execution_count": 35,
   "metadata": {
    "_uuid": "91c1317cb7caaf3aea3916ac3bf22b6c2f33cf2d"
   },
   "outputs": [],
   "source": [
    "JudgingPercieiving = NaiveBayesClassifier.train(train)"
   ]
  },
  {
   "cell_type": "code",
   "execution_count": 36,
   "metadata": {
    "_uuid": "9c3cb5d0eb3640d8fbc1285cba35af26bc18112b",
    "scrolled": true
   },
   "outputs": [
    {
     "data": {
      "text/plain": [
       "79.38458035335397"
      ]
     },
     "execution_count": 36,
     "metadata": {},
     "output_type": "execute_result"
    }
   ],
   "source": [
    "nltk.classify.util.accuracy(JudgingPercieiving, train)*100"
   ]
  },
  {
   "cell_type": "code",
   "execution_count": 37,
   "metadata": {
    "_uuid": "7ed4ffc949f727d43f8a0635ee27331e82333927"
   },
   "outputs": [],
   "source": [
    "test=[]\n",
    "for i in range(16):\n",
    "    test += features[i][split[i]:]"
   ]
  },
  {
   "cell_type": "code",
   "execution_count": 38,
   "metadata": {
    "_uuid": "39de4ac50b744d0d0c7ce7efc3d37717ed95eec6"
   },
   "outputs": [
    {
     "data": {
      "text/plain": [
       "54.38480321152175"
      ]
     },
     "execution_count": 38,
     "metadata": {},
     "output_type": "execute_result"
    }
   ],
   "source": [
    "nltk.classify.util.accuracy(JudgingPercieiving, test)*100"
   ]
  },
  {
   "cell_type": "markdown",
   "metadata": {
    "_uuid": "86d39c896a2dcf81f209e832575b271c30c170a1"
   },
   "source": [
    "# Summarizing the results of the models\n",
    "***\n"
   ]
  },
  {
   "cell_type": "code",
   "execution_count": 39,
   "metadata": {
    "_uuid": "0261680d17b7d53253653f055a0da3a32082f258"
   },
   "outputs": [],
   "source": [
    "temp = {'train' : [81.12443979837917,70.14524215640667,80.03456948570128,79.79341109742592], 'test' : [58.20469312585358,54.46262259027357,59.41315234035509,54.40549600629061]}\n",
    "results = pd.DataFrame.from_dict(temp, orient='index', columns=['Introvert - Extrovert', 'Intuition - Sensing', 'Thinking - Feeling', 'Judging - Percieiving'])\n"
   ]
  },
  {
   "cell_type": "markdown",
   "metadata": {
    "_uuid": "902d13554137516a8770804503717d6a37451487"
   },
   "source": [
    "Plotting the results for better appeal"
   ]
  },
  {
   "cell_type": "code",
   "execution_count": 40,
   "metadata": {
    "_uuid": "318a256a8f4e05fe6a6763b373ec2cdb47f0de29"
   },
   "outputs": [
    {
     "data": {
      "image/png": "[encoded data removed]",
      "text/plain": [
       "<Figure size 864x432 with 1 Axes>"
      ]
     },
     "metadata": {
      "needs_background": "light"
     },
     "output_type": "display_data"
    }
   ],
   "source": [
    "labels = np.array(results.columns)\n",
    "\n",
    "training = results.loc['train']\n",
    "ind = np.arange(4)\n",
    "width = 0.4\n",
    "fig = plt.figure()\n",
    "ax = fig.add_subplot(111)\n",
    "rects1 = ax.bar(ind, training, width, color='royalblue')\n",
    "\n",
    "testing = results.loc['test']\n",
    "rects2 = ax.bar(ind+width, testing, width, color='seagreen')\n",
    "\n",
    "fig.set_size_inches(12, 6)\n",
    "fig.savefig('Results.png', dpi=200)\n",
    "\n",
    "ax.set_xlabel('Model Classifying Trait', size = 18)\n",
    "ax.set_ylabel('Accuracy Percent (%)', size = 18)\n",
    "ax.set_xticks(ind + width / 2)\n",
    "ax.set_xticklabels(labels)\n",
    "ax.legend((rects1[0], rects2[0]), ('Tested on a known dataframe', 'Tested on an unknown dataframe'))\n",
    "plt.show()"
   ]
  },
  {
   "cell_type": "markdown",
   "metadata": {
    "_uuid": "73713f15035b8794105d79d408303538f70d81e8"
   },
   "source": [
    "Defining a functions that inputs the writings, tokenizes them and then predicts the output based on our earlier classifiers"
   ]
  },
  {
   "cell_type": "code",
   "execution_count": 41,
   "metadata": {
    "_uuid": "1185cfaace1c5df6b334ca51b3b0bd1960ede4d8"
   },
   "outputs": [],
   "source": [
    "def MBTI(input):\n",
    "    tokenize = build_bag_of_words_features_filtered(input)\n",
    "    ie = IntroExtro.classify(tokenize)\n",
    "    Is = IntuitionSensing.classify(tokenize)\n",
    "    tf = ThinkingFeeling.classify(tokenize)\n",
    "    jp = JudgingPercieiving.classify(tokenize)\n",
    "    \n",
    "    mbt = ''\n",
    "    \n",
    "    if(ie == 'introvert'):\n",
    "        mbt+='I'\n",
    "    if(ie == 'extrovert'):\n",
    "        mbt+='E'\n",
    "    if(Is == 'Intuition'):\n",
    "        mbt+='N'\n",
    "    if(Is == 'Sensing'):\n",
    "        mbt+='S'\n",
    "    if(tf == 'Thinking'):\n",
    "        mbt+='T'\n",
    "    if(tf == 'Feeling'):\n",
    "        mbt+='F'\n",
    "    if(jp == 'Judging'):\n",
    "        mbt+='J'\n",
    "    if(jp == 'Percieving'):\n",
    "        mbt+='P'\n",
    "    return(mbt)\n",
    "    "
   ]
  },
  {
   "cell_type": "code",
   "execution_count": 42,
   "metadata": {
    "_uuid": "ceaaa08742e3dfb2ba1d51bb7e8af74c68cad824"
   },
   "outputs": [],
   "source": [
    "def tellmemyMBTI(input, name, traasits=[]):\n",
    "    a = []\n",
    "    trait1 = pd.DataFrame([0,0,0,0],['I','N','T','J'],['count'])\n",
    "    trait2 = pd.DataFrame([0,0,0,0],['E','S','F','P'],['count'])\n",
    "    for i in input:\n",
    "        a += [MBTI(i)]\n",
    "    for i in a:\n",
    "        for j in ['I','N','T','J']:\n",
    "            if(j in i):\n",
    "                trait1.loc[j]+=1                \n",
    "        for j in ['E','S','F','P']:\n",
    "            if(j in i):\n",
    "                trait2.loc[j]+=1 \n",
    "    trait1 = trait1.T\n",
    "    trait1 = trait1*100/len(input)\n",
    "    trait2 = trait2.T\n",
    "    trait2 = trait2*100/len(input)\n",
    "    \n",
    "    \n",
    "    #Finding the personality\n",
    "    YourTrait = ''\n",
    "    for i,j in zip(trait1,trait2):\n",
    "        temp = max(trait1[i][0],trait2[j][0])\n",
    "        if(trait1[i][0]==temp):\n",
    "            YourTrait += i  \n",
    "        if(trait2[j][0]==temp):\n",
    "            YourTrait += j\n",
    "    traasits +=[YourTrait] \n",
    "    \n",
    "    #Plotting\n",
    "    \n",
    "    labels = np.array(results.columns)\n",
    "\n",
    "    intj = trait1.loc['count']\n",
    "    ind = np.arange(4)\n",
    "    width = 0.4\n",
    "    fig = plt.figure()\n",
    "    ax = fig.add_subplot(111)\n",
    "    rects1 = ax.bar(ind, intj, width, color='royalblue')\n",
    "\n",
    "    esfp = trait2.loc['count']\n",
    "    rects2 = ax.bar(ind+width, esfp, width, color='seagreen')\n",
    "\n",
    "    fig.set_size_inches(10, 7)\n",
    "    \n",
    "    \n",
    "\n",
    "    ax.set_xlabel('Finding the MBTI Trait', size = 18)\n",
    "    ax.set_ylabel('Trait Percent (%)', size = 18)\n",
    "    ax.set_xticks(ind + width / 2)\n",
    "    ax.set_xticklabels(labels)\n",
    "    ax.set_yticks(np.arange(0,105, step= 10))\n",
    "    ax.set_title('Your Personality is '+YourTrait,size = 20)\n",
    "    plt.grid(True)\n",
    "    \n",
    "    \n",
    "    fig.savefig(name+'.png', dpi=200)\n",
    "    \n",
    "    plt.show()\n",
    "    return(traasits)\n",
    "        "
   ]
  },
  {
   "cell_type": "code",
   "execution_count": 43,
   "metadata": {},
   "outputs": [
    {
     "name": "stdout",
     "output_type": "stream",
     "text": [
      "15\n"
     ]
    },
    {
     "data": {
      "image/png": "[encoded data removed]",
      "text/plain": [
       "<Figure size 720x504 with 1 Axes>"
      ]
     },
     "metadata": {
      "needs_background": "light"
     },
     "output_type": "display_data"
    },
    {
     "name": "stdout",
     "output_type": "stream",
     "text": [
      "['INTJ']\n"
     ]
    }
   ],
   "source": [
    "My_writings = open(\"mbti_qoura_sample.txt\") \n",
    "my_writing = My_writings.readlines()\n",
    "my_posts = my_writing[0].split('|||') \n",
    "print(len(my_posts))\n",
    "trait=tellmemyMBTI(my_posts, 'lol')\n",
    "print(trait)"
   ]
  },
  {
   "cell_type": "code",
   "execution_count": null,
   "metadata": {
    "_uuid": "9adfdd6c67746864a3328516ae7f225c28a60fd3"
   },
   "outputs": [],
   "source": []
  }
 ],
 "metadata": {
  "kernelspec": {
   "display_name": "Python 3",
   "language": "python",
   "name": "python3"
  },
  "language_info": {
   "codemirror_mode": {
    "name": "ipython",
    "version": 3
   },
   "file_extension": ".py",
   "mimetype": "text/x-python",
   "name": "python",
   "nbconvert_exporter": "python",
   "pygments_lexer": "ipython3",
   "version": "3.8.3"
  }
 },
 "nbformat": 4,
 "nbformat_minor": 1
}
